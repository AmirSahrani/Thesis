{
 "cells": [
  {
   "cell_type": "code",
   "execution_count": 1,
   "metadata": {},
   "outputs": [],
   "source": [
    "import pandas as pd\n",
    "import difflib as dl"
   ]
  },
  {
   "attachments": {},
   "cell_type": "markdown",
   "metadata": {},
   "source": [
    "# Assembly and cleaning\n",
    "First we assemble all the data, and in some cases we have to reformat some of the sequences. when all is done we clean the data by making everything lowercase"
   ]
  },
  {
   "cell_type": "code",
   "execution_count": 2,
   "metadata": {},
   "outputs": [],
   "source": [
    "def coin_name_fix(df):\n",
    "    df['coin'] = df['coin'].str.replace(\"0.5EUR\", \"0.50EUR\").replace(\"0.2EUR\", \"0.20EUR\").replace(\"0.1EUR\", \"0.10EUR\").replace('0.05NZD', '0.50NZD')\n",
    "    df['coin'] = df['coin'].str.replace('10ct', '0.10EUR').replace('20ct', '0.20EUR').replace('50ct', '0.50EUR').replace('5ct euro', '0.05EUR')\n",
    "    df['coin'] = df['coin'].str.replace(\"1 euro\", \"1EUR\").replace('1eu','1EUR')\n",
    "\n",
    "    return df"
   ]
  },
  {
   "cell_type": "code",
   "execution_count": 3,
   "metadata": {},
   "outputs": [],
   "source": [
    "def cleaning(df,file):\n",
    "    if file == 'František': # František has a different format\n",
    "        df[\"sequence\"] = df['sequence'].str.replace(\"x\", \"t\")\n",
    "        df['sequence'] = df['sequence'].str.replace(\"o\", \"h\")\n",
    "        df['sequence'] = df['sequence'].str.replace(\"f\", \"x\")\n",
    "    if file == 'Kaleem': # Kaleem has a different format\n",
    "        df['sequence'] = df['sequence'].str.replace(\"y\", \"x\")\n",
    "    df['sequence'] = df['sequence'].str.lower()\n",
    "    return df"
   ]
  },
  {
   "cell_type": "code",
   "execution_count": 4,
   "metadata": {},
   "outputs": [],
   "source": [
    "files = ['Amir','DavidV',\"František\",'Kaleem','Pierre', 'DavidKL']\n",
    "df = pd.DataFrame()\n",
    "for file in files:\n",
    "    f = pd.read_csv(f'Audit_data/{file}.csv', header = 0)\n",
    "    f = cleaning(f,file)\n",
    "    f['auditor'] = file\n",
    "    df = pd.concat([df,f], axis = 0, ignore_index = True)\n"
   ]
  },
  {
   "cell_type": "code",
   "execution_count": 5,
   "metadata": {},
   "outputs": [
    {
     "name": "stderr",
     "output_type": "stream",
     "text": [
      "C:\\Users\\amisa\\AppData\\Local\\Temp\\ipykernel_2868\\3142134136.py:2: FutureWarning: The default value of regex will change from True to False in a future version.\n",
      "  df['coin'] = df['coin'].str.replace(\"0.5EUR\", \"0.50EUR\").replace(\"0.2EUR\", \"0.20EUR\").replace(\"0.1EUR\", \"0.10EUR\").replace('0.05NZD', '0.50NZD')\n"
     ]
    }
   ],
   "source": [
    "david_autocorrelated  = pd.read_excel('Data coins David Voss.xlsx', header=0)\n",
    "david_autocorrelated = cleaning(david_autocorrelated, 'David Voss')\n",
    "david_autocorrelated = coin_name_fix(david_autocorrelated)"
   ]
  },
  {
   "attachments": {},
   "cell_type": "markdown",
   "metadata": {},
   "source": [
    "# Getting reported data\n",
    "Now we need to get the original data form the tosser's to compare"
   ]
  },
  {
   "cell_type": "code",
   "execution_count": 6,
   "metadata": {},
   "outputs": [
    {
     "name": "stderr",
     "output_type": "stream",
     "text": [
      "C:\\Users\\amisa\\AppData\\Local\\Temp\\ipykernel_2868\\3142134136.py:2: FutureWarning: The default value of regex will change from True to False in a future version.\n",
      "  df['coin'] = df['coin'].str.replace(\"0.5EUR\", \"0.50EUR\").replace(\"0.2EUR\", \"0.20EUR\").replace(\"0.1EUR\", \"0.10EUR\").replace('0.05NZD', '0.50NZD')\n"
     ]
    }
   ],
   "source": [
    "bachelor_f = pd.read_csv('bachelor_data.csv', header = 0)\n",
    "marathon_f = pd.read_csv('marathon_data.csv', header = 0)\n",
    "bachelor = coin_name_fix(pd.DataFrame(bachelor_f))\n",
    "marathon = coin_name_fix(pd.DataFrame(marathon_f))\n",
    "reported = []\n",
    "start = []\n",
    "for _,i in df.iterrows():\n",
    "    if i['person'] == 'kaleemU' and i['sequence_id'] == 25:\n",
    "        reported.append(bachelor.loc[((bachelor['sequence_id'] == i['sequence_id']) & (bachelor['person'] == 'irmaT'))]['sequence'].values[0])\n",
    "        start.append(bachelor.loc[((bachelor['sequence_id'] == i['sequence_id']) & (bachelor['person'] == 'irmaT'))]['start'].values[0])\n",
    "    elif i['group'] == 'bachelor':\n",
    "        reported.append(bachelor.loc[((bachelor['sequence_id'] == i['sequence_id']) & (bachelor['person'] == i['person']))]['sequence'].values[0])\n",
    "        start.append(bachelor.loc[((bachelor['sequence_id'] == i['sequence_id']) & (bachelor['person'] == i['person']))]['start'].values[0])\n",
    "    else:\n",
    "        reported.append(marathon.loc[((marathon['sequence_id'] == i['sequence_id']) & (marathon['person'] == i['person']))]['sequence'].values[0])\n",
    "        start.append(marathon.loc[((marathon['sequence_id'] == i['sequence_id']) & (marathon['person'] == i['person']))]['start'].values[0])\n",
    "df['reported_sequence'] = reported\n",
    "df['start'] = start\n"
   ]
  },
  {
   "cell_type": "code",
   "execution_count": 7,
   "metadata": {},
   "outputs": [],
   "source": [
    "auto_corr_bachelor = pd.concat([bachelor.loc[bachelor['person'] != 'davidV'], david_autocorrelated], axis = 0, ignore_index = True)\n",
    "merged = pd.concat([bachelor,marathon], axis = 0, ignore_index = True)\n",
    "merged_auto_corr = pd.concat([auto_corr_bachelor,marathon], axis = 0, ignore_index = True)"
   ]
  },
  {
   "cell_type": "code",
   "execution_count": 9,
   "metadata": {},
   "outputs": [],
   "source": [
    "from Levenshtein import distance\n",
    "\n",
    "def switch(audit):\n",
    "    audit = audit.replace(\"h\", \"V\")\n",
    "    audit = audit.replace(\"t\", \"h\")\n",
    "    audit = audit.replace(\"V\", \"t\")\n",
    "    return audit\n",
    "\n",
    "def switcher(audit, report):\n",
    "    current_distance = distance(audit, report)\n",
    "    audit_new = switch(audit)\n",
    "    if distance(audit_new, report) < current_distance:\n",
    "        return audit_new\n",
    "    else:\n",
    "        return audit"
   ]
  },
  {
   "cell_type": "code",
   "execution_count": 10,
   "metadata": {},
   "outputs": [],
   "source": [
    "corrected_sequence = []\n",
    "for _,i in df.iterrows():\n",
    "    Best_match = switcher(i['sequence'],i['reported_sequence'])\n",
    "    corrected_sequence.append(Best_match)    \n",
    "df['corrected_sequence'] = corrected_sequence\n"
   ]
  },
  {
   "cell_type": "code",
   "execution_count": 11,
   "metadata": {},
   "outputs": [],
   "source": [
    "df['cleaned_sequence'] = df['corrected_sequence'].str.replace(\"x\", \"\")\n",
    "df['cleaned_sequence'] = df['cleaned_sequence'].str.replace(\"u\", \"\")\n",
    "df['cleaned_sequence'] = df['cleaned_sequence'].str.replace(\" \", \"\")\n",
    "df['cleaned_reported_sequence'] = df['reported_sequence'].str.replace(\"x\", \"\")\n",
    "df['cleaned_reported_sequence'] = df['cleaned_reported_sequence'].str.replace(\" \", \"\")"
   ]
  },
  {
   "attachments": {},
   "cell_type": "markdown",
   "metadata": {},
   "source": [
    "# Comparing\n",
    "Now that we have both reported and audited sequences we can start comparing them"
   ]
  },
  {
   "cell_type": "code",
   "execution_count": 12,
   "metadata": {},
   "outputs": [],
   "source": [
    "correct = []\n",
    "for _,i in df.iterrows():\n",
    "    if i['cleaned_sequence'] == i['cleaned_reported_sequence']:\n",
    "        correct.append(1)\n",
    "    else:\n",
    "        correct.append(0)\n",
    "df['correct'] = correct"
   ]
  },
  {
   "attachments": {},
   "cell_type": "markdown",
   "metadata": {},
   "source": [
    "Using this we can see that 13 trails are completely correct, even without considering possible 1-off errors"
   ]
  },
  {
   "attachments": {},
   "cell_type": "markdown",
   "metadata": {},
   "source": [
    "# Naive approach\n",
    "Using a naive approach we can see that Pierre's data is extremely accurate with only 2 mistakes. everything else is still unclear, presumably because of misalignment "
   ]
  },
  {
   "cell_type": "code",
   "execution_count": 13,
   "metadata": {},
   "outputs": [],
   "source": [
    "def naive_check(audit,reported):\n",
    "    errors = []\n",
    "    succes = []\n",
    "    for i in range(min(len(audit),len(reported))):\n",
    "        if audit[i] == reported[i] or audit[i] == \"_\" or reported[i] == \"_\":\n",
    "            errors.append(0)\n",
    "        else:\n",
    "            errors.append(1)\n",
    "    return errors"
   ]
  },
  {
   "cell_type": "code",
   "execution_count": 14,
   "metadata": {},
   "outputs": [],
   "source": [
    "sequences_errors = []\n",
    "for _,i in df.iterrows():\n",
    "    sequences_errors.append(sum(naive_check(i['cleaned_sequence'],i['cleaned_reported_sequence'])))\t\n",
    "df['sequence_errors'] = sequences_errors\n",
    "\n"
   ]
  },
  {
   "cell_type": "code",
   "execution_count": 15,
   "metadata": {},
   "outputs": [],
   "source": [
    "def succes_decoder(sequence, start):\n",
    "    succes = []\n",
    "    for index,letter in enumerate(sequence):\n",
    "        if index == 0:\n",
    "            if letter == start or letter == '_':\n",
    "                succes.append(1)\n",
    "            else:\n",
    "                succes.append(0)\n",
    "        else:\n",
    "            if letter == last or letter == '_':\n",
    "                succes.append(1)\n",
    "            else:\n",
    "                succes.append(0)\n",
    "        last = letter\n",
    "    return succes"
   ]
  },
  {
   "cell_type": "code",
   "execution_count": 17,
   "metadata": {},
   "outputs": [
    {
     "name": "stdout",
     "output_type": "stream",
     "text": [
      "bachelor head: 37562 tail: 37474 marathon head: 29323 tail: 29874\n",
      "total head: 66885 total tail: 67348\n"
     ]
    },
    {
     "data": {
      "text/plain": [
       "59197"
      ]
     },
     "execution_count": 17,
     "metadata": {},
     "output_type": "execute_result"
    }
   ],
   "source": [
    "bachelor['head_count'] = bachelor['sequence'].str.count(\"h\")\n",
    "bachelor['tail_count'] = bachelor['sequence'].str.count(\"t\")\n",
    "marathon['head_count'] = marathon['sequence'].str.count(\"h\")\n",
    "marathon['tail_count'] = marathon['sequence'].str.count(\"t\")\n",
    "print(f'bachelor head: {bachelor[\"head_count\"].sum()} tail: {bachelor[\"tail_count\"].sum()} marathon head: {marathon[\"head_count\"].sum()} tail: {marathon[\"tail_count\"].sum()}')\n",
    "print(f'total head: {bachelor[\"head_count\"].sum() + marathon[\"head_count\"].sum()} total tail: {bachelor[\"tail_count\"].sum() + marathon[\"tail_count\"].sum()}')\n",
    "29323+29874"
   ]
  },
  {
   "cell_type": "code",
   "execution_count": 18,
   "metadata": {},
   "outputs": [
    {
     "name": "stdout",
     "output_type": "stream",
     "text": [
      "start\n",
      "t    381\n",
      "h    360\n",
      "dtype: int64\n",
      "start\n",
      "h    300\n",
      "t    292\n",
      "x      1\n",
      "dtype: int64\n"
     ]
    }
   ],
   "source": [
    "print(auto_corr_bachelor.value_counts('start'))\n",
    "print(marathon.value_counts('start'))\n"
   ]
  },
  {
   "cell_type": "code",
   "execution_count": 16,
   "metadata": {},
   "outputs": [],
   "source": [
    "import numpy as np\n",
    " \n",
    "def get_minimum_penalty(x:str, y:str, pxy:int, pgap:int):\n",
    "    \"\"\"\n",
    "    Function to find out the minimum penalty\n",
    " \n",
    "    :param x: pattern X\n",
    "    :param y: pattern Y\n",
    "    :param pxy: penalty of mis-matching the characters of X and Y\n",
    "    :param pgap: penalty of a gap between pattern elements\n",
    "    \"\"\"\n",
    " \n",
    "    # initializing variables\n",
    "    i = 0\n",
    "    j = 0\n",
    "     \n",
    "    # pattern lengths\n",
    "    m = len(x)\n",
    "    n = len(y)\n",
    "     \n",
    "    # table for storing optimal substructure answers\n",
    "    dp = np.zeros([m+1,n+1], dtype=int) #int dp[m+1][n+1] = {0};\n",
    " \n",
    "    # initialising the table\n",
    "    dp[0:(m+1),0] = [ i * pgap for i in range(m+1)]\n",
    "    dp[0,0:(n+1)] = [ i * pgap for i in range(n+1)]\n",
    " \n",
    "    # calculating the minimum penalty\n",
    "    i = 1\n",
    "    while i <= m:\n",
    "        j = 1\n",
    "        while j <= n:\n",
    "            if x[i - 1] == y[j - 1]:\n",
    "                dp[i][j] = dp[i - 1][j - 1]\n",
    "            else:\n",
    "                dp[i][j] = min(dp[i - 1][j - 1] + pxy,\n",
    "                                dp[i - 1][j] + pgap,\n",
    "                                dp[i][j - 1] + pgap)\n",
    "            j += 1\n",
    "        i += 1\n",
    "     \n",
    "    # Reconstructing the solution\n",
    "    l = n + m   # maximum possible length\n",
    "    i = m\n",
    "    j = n\n",
    "     \n",
    "    xpos = l\n",
    "    ypos = l\n",
    " \n",
    "    # Final answers for the respective strings\n",
    "    xans = np.zeros(l+1, dtype=int)\n",
    "    yans = np.zeros(l+1, dtype=int)\n",
    "     \n",
    " \n",
    "    while not (i == 0 or j == 0):\n",
    "        #print(f\"i: {i}, j: {j}\")\n",
    "        if x[i - 1] == y[j - 1]:       \n",
    "            xans[xpos] = ord(x[i - 1])\n",
    "            yans[ypos] = ord(y[j - 1])\n",
    "            xpos -= 1\n",
    "            ypos -= 1\n",
    "            i -= 1\n",
    "            j -= 1\n",
    "        elif (dp[i - 1][j - 1] + pxy) == dp[i][j]:\n",
    "         \n",
    "            xans[xpos] = ord(x[i - 1])\n",
    "            yans[ypos] = ord(y[j - 1])\n",
    "            xpos -= 1\n",
    "            ypos -= 1\n",
    "            i -= 1\n",
    "            j -= 1\n",
    "         \n",
    "        elif (dp[i - 1][j] + pgap) == dp[i][j]:\n",
    "            xans[xpos] = ord(x[i - 1])\n",
    "            yans[ypos] = ord('_')\n",
    "            xpos -= 1\n",
    "            ypos -= 1\n",
    "            i -= 1\n",
    "         \n",
    "        elif (dp[i][j - 1] + pgap) == dp[i][j]:       \n",
    "            xans[xpos] = ord('_')\n",
    "            yans[ypos] = ord(y[j - 1])\n",
    "            xpos -= 1\n",
    "            ypos -= 1\n",
    "            j -= 1\n",
    "         \n",
    " \n",
    "    while xpos > 0:\n",
    "        if i > 0:\n",
    "            i -= 1\n",
    "            xans[xpos] = ord(x[i])\n",
    "            xpos -= 1\n",
    "        else:\n",
    "            xans[xpos] = ord('_')\n",
    "            xpos -= 1\n",
    "     \n",
    "    while ypos > 0:\n",
    "        if j > 0:\n",
    "            j -= 1\n",
    "            yans[ypos] = ord(y[j])\n",
    "            ypos -= 1\n",
    "        else:\n",
    "            yans[ypos] = ord('_')\n",
    "            ypos -= 1\n",
    " \n",
    "    # Since we have assumed the answer to be n+m long,\n",
    "    # we need to remove the extra gaps in the starting\n",
    "    # id represents the index from which the arrays\n",
    "    # xans, yans are useful\n",
    "    id = 1\n",
    "    i = l\n",
    "    while i >= 1:\n",
    "        if (chr(yans[i]) == '_') and chr(xans[i]) == '_':\n",
    "            id = i + 1\n",
    "            break\n",
    "         \n",
    "        i -= 1\n",
    " \n",
    "    # Printing the final answer\n",
    "    # print(f\"Minimum Penalty in aligning the genes = {dp[m][n]}\")\n",
    "    # print(\"The aligned genes are:\")   \n",
    "    # X\n",
    "    i = id\n",
    "    x_seq = \"\"\n",
    "    while i <= l:\n",
    "        x_seq += chr(xans[i])\n",
    "        i += 1\n",
    " \n",
    "    # Y\n",
    "    i = id\n",
    "    y_seq = \"\"\n",
    "    while i <= l:\n",
    "        y_seq += chr(yans[i])\n",
    "        i += 1\n",
    "    return [x_seq, y_seq]\n",
    "\n",
    " "
   ]
  },
  {
   "cell_type": "code",
   "execution_count": 17,
   "metadata": {},
   "outputs": [
    {
     "name": "stdout",
     "output_type": "stream",
     "text": [
      "kaleemU\n",
      "13\n",
      "hhtthhhhthhhttthhththhhthttttttthhtttttthtthhtthhththhhhtthhtththhthhttttthtttthhhhthththhtttt_tthhttthhth\n",
      "hh_thhhhthhh_tthhththhhthhttttttthhtttttththttthhtht__hhtthhtththh_hh_tttthtttthhhhththhhhtttthhttthhthhtt\n",
      "alexandraS\n",
      "35\n",
      "hhhthtttthtttthhthhthhhhttththtthtthhthtthththhhhhhthttttthtthhthhthhhhhhhhtthhhhthhtthhhttttthhhttttttht\n",
      "_hhththhththtt_hthhhhthhthhtthhhhthhhth_thttthhhtthhtthttthhtttthhthhhttthhtt_thh_hhthhtttthhtthhhhhththh\n",
      "madlenH\n",
      "11\n",
      "thhttttttthtthhthtthhhttthhhhhhhhthhhhtthhhhhhttthhhhthhhthhhhhhtttthhhtthhththtthhhthttthhtthhtthhhhhtttthtthh\n",
      "t_tthhttttttthtththtthhtt_thhhhhhthhhhtt_hhhhhttthhhhthhhthhhhhh_ttthhhtthhttthtthhhthttthhtthh_thhhhh___t_tt__\n",
      "ingeborgR\n",
      "40\n",
      "thhtthhhtthhhhhhththtthtttthth_htthhtttthhhththttttthtthttthhttthhtttttthhtththtthththtththhhhhtthht\n",
      "hthtttthtthhhttthhhhtthtttttththhhhhhhttttthhththhhttttttttthttthththtthhhhtttthtthhthtttttthtttttht\n",
      "adamF\n",
      "35\n",
      "thhthtttththhhhthhhtthhhtththhhhhttththtthhhhhhthhtthhhthhth_hthhhhtttttthth_hthtththhtth_hhtththhth\n",
      "httthttththhhhhhtthtthhhthtthhhhhhhhthhhhhhhtttthhthhhhtthththtthhhtttthhtththtttttthtthhtthtthhhthh\n"
     ]
    }
   ],
   "source": [
    "\n",
    "markings = []\n",
    "errors = []\n",
    "succes = []\n",
    "sum_errors = []\n",
    "for _,i in df.iterrows():\n",
    "    x = get_minimum_penalty(i['cleaned_sequence'],i['cleaned_reported_sequence'],1,3)\n",
    "    error_trail = naive_check(x[0],x[1])\n",
    "    errors.append(error_trail)\n",
    "    succes.append(succes_decoder(x[0], i['start']))\n",
    "    sum_errors.append(sum(errors[-1]))\n",
    "    if sum(errors[-1]) >= 10:\n",
    "        print(i['person'])\n",
    "        print(sum(error_trail))\n",
    "        print(x[0])\n",
    "        print(x[1])\n",
    "        markings.append(\"x\")\n",
    "    else:\n",
    "        markings.append(\"\") \n",
    "df['marked'] = markings\n",
    "df['errors'] = errors\n",
    "df['succes'] = succes\n",
    "df['sum_errors'] = sum_errors\n"
   ]
  },
  {
   "cell_type": "code",
   "execution_count": 18,
   "metadata": {},
   "outputs": [
    {
     "data": {
      "text/plain": [
       "57"
      ]
     },
     "execution_count": 18,
     "metadata": {},
     "output_type": "execute_result"
    }
   ],
   "source": [
    "# sum(df['errors'].apply(lambda x: sum(x)))\n",
    "sum(df.loc[df['marked'] != 'x']['errors'].apply(lambda x: sum(x)))"
   ]
  },
  {
   "cell_type": "code",
   "execution_count": 117,
   "metadata": {},
   "outputs": [],
   "source": [
    "df['person_factor'] = pd.factorize(df['person'])[0] + 1\n",
    "df= df.loc[df['marked'] != 'x']\n",
    "exploded_df = df.explode(['errors', 'succes'])[['person', 'person_factor', 'errors', 'succes']]\n",
    "exploded_df['errors'] = exploded_df['errors'].astype(int)\n",
    "exploded_df.to_csv('auditdata_fixed.csv', index=False)"
   ]
  },
  {
   "cell_type": "code",
   "execution_count": 25,
   "metadata": {},
   "outputs": [
    {
     "ename": "KeyError",
     "evalue": "'succes'",
     "output_type": "error",
     "traceback": [
      "\u001b[1;31m---------------------------------------------------------------------------\u001b[0m",
      "\u001b[1;31mKeyError\u001b[0m                                  Traceback (most recent call last)",
      "File \u001b[1;32mc:\\Users\\amisa\\AppData\\Local\\Programs\\Python\\Python310\\lib\\site-packages\\pandas\\core\\indexes\\base.py:3621\u001b[0m, in \u001b[0;36mIndex.get_loc\u001b[1;34m(self, key, method, tolerance)\u001b[0m\n\u001b[0;32m   3620\u001b[0m \u001b[39mtry\u001b[39;00m:\n\u001b[1;32m-> 3621\u001b[0m     \u001b[39mreturn\u001b[39;00m \u001b[39mself\u001b[39;49m\u001b[39m.\u001b[39;49m_engine\u001b[39m.\u001b[39;49mget_loc(casted_key)\n\u001b[0;32m   3622\u001b[0m \u001b[39mexcept\u001b[39;00m \u001b[39mKeyError\u001b[39;00m \u001b[39mas\u001b[39;00m err:\n",
      "File \u001b[1;32mc:\\Users\\amisa\\AppData\\Local\\Programs\\Python\\Python310\\lib\\site-packages\\pandas\\_libs\\index.pyx:136\u001b[0m, in \u001b[0;36mpandas._libs.index.IndexEngine.get_loc\u001b[1;34m()\u001b[0m\n",
      "File \u001b[1;32mc:\\Users\\amisa\\AppData\\Local\\Programs\\Python\\Python310\\lib\\site-packages\\pandas\\_libs\\index.pyx:163\u001b[0m, in \u001b[0;36mpandas._libs.index.IndexEngine.get_loc\u001b[1;34m()\u001b[0m\n",
      "File \u001b[1;32mpandas\\_libs\\hashtable_class_helper.pxi:5198\u001b[0m, in \u001b[0;36mpandas._libs.hashtable.PyObjectHashTable.get_item\u001b[1;34m()\u001b[0m\n",
      "File \u001b[1;32mpandas\\_libs\\hashtable_class_helper.pxi:5206\u001b[0m, in \u001b[0;36mpandas._libs.hashtable.PyObjectHashTable.get_item\u001b[1;34m()\u001b[0m\n",
      "\u001b[1;31mKeyError\u001b[0m: 'succes'",
      "\nThe above exception was the direct cause of the following exception:\n",
      "\u001b[1;31mKeyError\u001b[0m                                  Traceback (most recent call last)",
      "\u001b[1;32mc:\\Users\\amisa\\Documents\\Python\\Thesis\\Audit_notebook.ipynb Cell 28\u001b[0m in \u001b[0;36m<cell line: 3>\u001b[1;34m()\u001b[0m\n\u001b[0;32m      <a href='vscode-notebook-cell:/c%3A/Users/amisa/Documents/Python/Thesis/Audit_notebook.ipynb#X62sZmlsZQ%3D%3D?line=0'>1</a>\u001b[0m \u001b[39m# len(exploded_df.loc[(exploded_df['errors'] == 1 ) & (exploded_df['succes'] == 1)])\u001b[39;00m\n\u001b[0;32m      <a href='vscode-notebook-cell:/c%3A/Users/amisa/Documents/Python/Thesis/Audit_notebook.ipynb#X62sZmlsZQ%3D%3D?line=1'>2</a>\u001b[0m \u001b[39m# len(exploded_df.loc[(exploded_df['errors'] == 1 ) & (exploded_df['succes'] == 0)])\u001b[39;00m\n\u001b[1;32m----> <a href='vscode-notebook-cell:/c%3A/Users/amisa/Documents/Python/Thesis/Audit_notebook.ipynb#X62sZmlsZQ%3D%3D?line=2'>3</a>\u001b[0m \u001b[39mprint\u001b[39m(merged\u001b[39m.\u001b[39;49mexplode(\u001b[39m'\u001b[39;49m\u001b[39msucces\u001b[39;49m\u001b[39m'\u001b[39;49m))\n\u001b[0;32m      <a href='vscode-notebook-cell:/c%3A/Users/amisa/Documents/Python/Thesis/Audit_notebook.ipynb#X62sZmlsZQ%3D%3D?line=3'>4</a>\u001b[0m \u001b[39mprint\u001b[39m(exploded_df[\u001b[39m'\u001b[39m\u001b[39msucces\u001b[39m\u001b[39m'\u001b[39m]\u001b[39m.\u001b[39mmean())\n",
      "File \u001b[1;32mc:\\Users\\amisa\\AppData\\Local\\Programs\\Python\\Python310\\lib\\site-packages\\pandas\\core\\frame.py:8345\u001b[0m, in \u001b[0;36mDataFrame.explode\u001b[1;34m(self, column, ignore_index)\u001b[0m\n\u001b[0;32m   8343\u001b[0m df \u001b[39m=\u001b[39m \u001b[39mself\u001b[39m\u001b[39m.\u001b[39mreset_index(drop\u001b[39m=\u001b[39m\u001b[39mTrue\u001b[39;00m)\n\u001b[0;32m   8344\u001b[0m \u001b[39mif\u001b[39;00m \u001b[39mlen\u001b[39m(columns) \u001b[39m==\u001b[39m \u001b[39m1\u001b[39m:\n\u001b[1;32m-> 8345\u001b[0m     result \u001b[39m=\u001b[39m df[columns[\u001b[39m0\u001b[39;49m]]\u001b[39m.\u001b[39mexplode()\n\u001b[0;32m   8346\u001b[0m \u001b[39melse\u001b[39;00m:\n\u001b[0;32m   8347\u001b[0m     mylen \u001b[39m=\u001b[39m \u001b[39mlambda\u001b[39;00m x: \u001b[39mlen\u001b[39m(x) \u001b[39mif\u001b[39;00m is_list_like(x) \u001b[39melse\u001b[39;00m \u001b[39m-\u001b[39m\u001b[39m1\u001b[39m\n",
      "File \u001b[1;32mc:\\Users\\amisa\\AppData\\Local\\Programs\\Python\\Python310\\lib\\site-packages\\pandas\\core\\frame.py:3505\u001b[0m, in \u001b[0;36mDataFrame.__getitem__\u001b[1;34m(self, key)\u001b[0m\n\u001b[0;32m   3503\u001b[0m \u001b[39mif\u001b[39;00m \u001b[39mself\u001b[39m\u001b[39m.\u001b[39mcolumns\u001b[39m.\u001b[39mnlevels \u001b[39m>\u001b[39m \u001b[39m1\u001b[39m:\n\u001b[0;32m   3504\u001b[0m     \u001b[39mreturn\u001b[39;00m \u001b[39mself\u001b[39m\u001b[39m.\u001b[39m_getitem_multilevel(key)\n\u001b[1;32m-> 3505\u001b[0m indexer \u001b[39m=\u001b[39m \u001b[39mself\u001b[39;49m\u001b[39m.\u001b[39;49mcolumns\u001b[39m.\u001b[39;49mget_loc(key)\n\u001b[0;32m   3506\u001b[0m \u001b[39mif\u001b[39;00m is_integer(indexer):\n\u001b[0;32m   3507\u001b[0m     indexer \u001b[39m=\u001b[39m [indexer]\n",
      "File \u001b[1;32mc:\\Users\\amisa\\AppData\\Local\\Programs\\Python\\Python310\\lib\\site-packages\\pandas\\core\\indexes\\base.py:3623\u001b[0m, in \u001b[0;36mIndex.get_loc\u001b[1;34m(self, key, method, tolerance)\u001b[0m\n\u001b[0;32m   3621\u001b[0m     \u001b[39mreturn\u001b[39;00m \u001b[39mself\u001b[39m\u001b[39m.\u001b[39m_engine\u001b[39m.\u001b[39mget_loc(casted_key)\n\u001b[0;32m   3622\u001b[0m \u001b[39mexcept\u001b[39;00m \u001b[39mKeyError\u001b[39;00m \u001b[39mas\u001b[39;00m err:\n\u001b[1;32m-> 3623\u001b[0m     \u001b[39mraise\u001b[39;00m \u001b[39mKeyError\u001b[39;00m(key) \u001b[39mfrom\u001b[39;00m \u001b[39merr\u001b[39;00m\n\u001b[0;32m   3624\u001b[0m \u001b[39mexcept\u001b[39;00m \u001b[39mTypeError\u001b[39;00m:\n\u001b[0;32m   3625\u001b[0m     \u001b[39m# If we have a listlike key, _check_indexing_error will raise\u001b[39;00m\n\u001b[0;32m   3626\u001b[0m     \u001b[39m#  InvalidIndexError. Otherwise we fall through and re-raise\u001b[39;00m\n\u001b[0;32m   3627\u001b[0m     \u001b[39m#  the TypeError.\u001b[39;00m\n\u001b[0;32m   3628\u001b[0m     \u001b[39mself\u001b[39m\u001b[39m.\u001b[39m_check_indexing_error(key)\n",
      "\u001b[1;31mKeyError\u001b[0m: 'succes'"
     ]
    }
   ],
   "source": [
    "# len(exploded_df.loc[(exploded_df['errors'] == 1 ) & (exploded_df['succes'] == 1)])\n",
    "# len(exploded_df.loc[(exploded_df['errors'] == 1 ) & (exploded_df['succes'] == 0)])\n",
    "print(merged.explode('succes'))\n",
    "print(exploded_df['succes'].mean())"
   ]
  },
  {
   "cell_type": "code",
   "execution_count": 146,
   "metadata": {},
   "outputs": [],
   "source": [
    "succes = []\n",
    "merged = merged.loc[merged['sequence'] != \"x\"] # Some of the 1 letter sequences are not valid\n",
    "for _,i in merged.iterrows():\n",
    "    succes.append(succes_decoder(i['sequence'].replace(\"x\",\"\"), i['start']))\n",
    "merged['succes'] = succes\n"
   ]
  },
  {
   "cell_type": "code",
   "execution_count": 23,
   "metadata": {},
   "outputs": [],
   "source": [
    "succes = []\n",
    "merged_auto_corr = merged_auto_corr.loc[merged_auto_corr['sequence'] != \"x\"] # Some of the 1 letter sequences are not valid\n",
    "for _,i in merged_auto_corr.iterrows():\n",
    "    succes.append(succes_decoder(i['sequence'].replace(\"x\",\"\"), i['start']))\n",
    "merged_auto_corr['succes'] = succes"
   ]
  },
  {
   "cell_type": "code",
   "execution_count": 39,
   "metadata": {},
   "outputs": [],
   "source": [
    "import matplotlib.pyplot as plt\n",
    "from scipy import stats\n",
    "from numpy import mean"
   ]
  },
  {
   "cell_type": "code",
   "execution_count": null,
   "metadata": {},
   "outputs": [],
   "source": [
    "def count(x):\n",
    "    count = 0\n",
    "    for i in x:\n",
    "        if i == \"t\":\n",
    "            count += 1\n",
    "    return count\n",
    "def proportion(df):\n",
    "    prop = df['counts']\n",
    "    return \n",
    "def plotting(persons,df, rows, columns):\n",
    "    plt.figure(figsize=(20,10))\n",
    "    for j,i in enumerate(persons, start = 1):\n",
    "        current_df = df.loc[df[\"person\"] == i]\n",
    "        plot_counts = current_df[\"counts\"].loc[df[\"counts\"] > 0]\n",
    "        theoretical =[stats.binom.pmf(k = x,n = 100, p = current_df['counts'].mean()/100) for x in range(0,len(current_df['counts']))]\n",
    "        theoretical = [int(x*150) for x in theoretical]\n",
    "        plt.subplot(rows,columns,j)\n",
    "        plt.bar(range(0,len(current_df['counts'])),theoretical, color=\"red\", alpha=0.3, label = \"Theoritical\")\n",
    "        plt.hist(plot_counts, bins = 100, color=\"blue\", alpha=1, label = \"Experimental\")\n",
    "        plt.legend()\n",
    "        plt.title(i)\n",
    "        plt.xlim([0,100])\n",
    "        plt.ylim([0,20])\n",
    "        # plt.xlabel(\"Number of Heads\")\n",
    "    plt.show()\n",
    "\n",
    "def main(df, rows, columns):\n",
    "    df[\"counts\"] = [count(x) if len(x) > 1 else None for x in df[\"sequence\"]]\n",
    "    plotting(df[\"person\"].unique(),df, rows, columns)\n",
    "\n"
   ]
  },
  {
   "cell_type": "code",
   "execution_count": null,
   "metadata": {},
   "outputs": [],
   "source": [
    "main(bachelor,3,2)"
   ]
  },
  {
   "cell_type": "code",
   "execution_count": null,
   "metadata": {},
   "outputs": [],
   "source": [
    "main(marathon, 3,3)"
   ]
  },
  {
   "cell_type": "code",
   "execution_count": 118,
   "metadata": {},
   "outputs": [],
   "source": [
    "merged = pd.concat([marathon, bachelor], ignore_index=True)\n",
    "merged['factor_person'] = pd.factorize(merged['person'])[0] + 1\n",
    "merged['factor_coin'] = pd.factorize(merged['coin'])[0] + 1\n",
    "merged.explode('succes')[['person','factor_person', 'coin', 'factor_coin', 'succes']].to_csv('merged.csv', index=False)\n"
   ]
  },
  {
   "cell_type": "code",
   "execution_count": 130,
   "metadata": {},
   "outputs": [
    {
     "ename": "NameError",
     "evalue": "name 'merged' is not defined",
     "output_type": "error",
     "traceback": [
      "\u001b[1;31m---------------------------------------------------------------------------\u001b[0m",
      "\u001b[1;31mNameError\u001b[0m                                 Traceback (most recent call last)",
      "\u001b[1;32mc:\\Users\\amisa\\Documents\\Python\\Thesis\\Audit_notebook.ipynb Cell 37\u001b[0m in \u001b[0;36m<cell line: 1>\u001b[1;34m()\u001b[0m\n\u001b[1;32m----> <a href='vscode-notebook-cell:/c%3A/Users/amisa/Documents/Python/Thesis/Audit_notebook.ipynb#X63sZmlsZQ%3D%3D?line=0'>1</a>\u001b[0m merged\u001b[39m.\u001b[39mexplode(\u001b[39m'\u001b[39m\u001b[39msucces\u001b[39m\u001b[39m'\u001b[39m)[\u001b[39m'\u001b[39m\u001b[39msucces\u001b[39m\u001b[39m'\u001b[39m]\u001b[39m.\u001b[39mmean()\n",
      "\u001b[1;31mNameError\u001b[0m: name 'merged' is not defined"
     ]
    }
   ],
   "source": [
    "merged.explode('succes')['succes'].mean()"
   ]
  },
  {
   "cell_type": "code",
   "execution_count": 97,
   "metadata": {},
   "outputs": [
    {
     "data": {
      "text/plain": [
       "<AxesSubplot:title={'center':'Coin distribution'}, xlabel='Coins', ylabel='Counts'>"
      ]
     },
     "execution_count": 97,
     "metadata": {},
     "output_type": "execute_result"
    },
    {
     "data": {
      "image/png": "[encoded data removed]",
      "text/plain": [
       "<Figure size 1440x720 with 1 Axes>"
      ]
     },
     "metadata": {
      "needs_background": "light"
     },
     "output_type": "display_data"
    }
   ],
   "source": [
    "# merged['succes_sum'] = merged['succes'].apply(lambda x: sum(x))\n",
    "# pd.pivot_table(merged, values='succes_sum', index=['sequence_id'], columns=['person']).plot(figsize= (20,10))\n",
    "merged.value_counts('coin').plot(kind='bar', figsize= (20,10), color = 'gray', title= \"Coin distribution\", xlabel= \"Coins\", ylabel= \"Counts\")\n"
   ]
  },
  {
   "cell_type": "code",
   "execution_count": 43,
   "metadata": {},
   "outputs": [],
   "source": [
    "exploed = merged.explode('succes')\n",
    "# exploed.loc[exploed['succes'] != 1].sort_values('succes')"
   ]
  },
  {
   "cell_type": "code",
   "execution_count": 62,
   "metadata": {},
   "outputs": [
    {
     "data": {
      "text/html": [
       "<div>\n",
       "<style scoped>\n",
       "    .dataframe tbody tr th:only-of-type {\n",
       "        vertical-align: middle;\n",
       "    }\n",
       "\n",
       "    .dataframe tbody tr th {\n",
       "        vertical-align: top;\n",
       "    }\n",
       "\n",
       "    .dataframe thead th {\n",
       "        text-align: right;\n",
       "    }\n",
       "</style>\n",
       "<table border=\"1\" class=\"dataframe\">\n",
       "  <thead>\n",
       "    <tr style=\"text-align: right;\">\n",
       "      <th></th>\n",
       "      <th>mean</th>\n",
       "      <th>std</th>\n",
       "      <th>len</th>\n",
       "    </tr>\n",
       "    <tr>\n",
       "      <th>coin</th>\n",
       "      <th></th>\n",
       "      <th></th>\n",
       "      <th></th>\n",
       "    </tr>\n",
       "  </thead>\n",
       "  <tbody>\n",
       "    <tr>\n",
       "      <th>0.05EUR</th>\n",
       "      <td>0.514123</td>\n",
       "      <td>0.499860</td>\n",
       "      <td>4213</td>\n",
       "    </tr>\n",
       "    <tr>\n",
       "      <th>0.05NZD</th>\n",
       "      <td>0.513675</td>\n",
       "      <td>0.499937</td>\n",
       "      <td>2011</td>\n",
       "    </tr>\n",
       "    <tr>\n",
       "      <th>0.10EUR</th>\n",
       "      <td>0.509584</td>\n",
       "      <td>0.499957</td>\n",
       "      <td>5165</td>\n",
       "    </tr>\n",
       "    <tr>\n",
       "      <th>0.20EUR</th>\n",
       "      <td>0.500334</td>\n",
       "      <td>0.500021</td>\n",
       "      <td>11968</td>\n",
       "    </tr>\n",
       "    <tr>\n",
       "      <th>0.20GBP</th>\n",
       "      <td>0.478803</td>\n",
       "      <td>0.499675</td>\n",
       "      <td>2005</td>\n",
       "    </tr>\n",
       "    <tr>\n",
       "      <th>0.20GEL</th>\n",
       "      <td>0.510182</td>\n",
       "      <td>0.499941</td>\n",
       "      <td>5598</td>\n",
       "    </tr>\n",
       "    <tr>\n",
       "      <th>0.25USD</th>\n",
       "      <td>0.491000</td>\n",
       "      <td>0.500169</td>\n",
       "      <td>1000</td>\n",
       "    </tr>\n",
       "    <tr>\n",
       "      <th>0.50GBP</th>\n",
       "      <td>0.490691</td>\n",
       "      <td>0.500080</td>\n",
       "      <td>1504</td>\n",
       "    </tr>\n",
       "    <tr>\n",
       "      <th>0.5EUR</th>\n",
       "      <td>0.505829</td>\n",
       "      <td>0.499981</td>\n",
       "      <td>16298</td>\n",
       "    </tr>\n",
       "    <tr>\n",
       "      <th>100JPY</th>\n",
       "      <td>0.504667</td>\n",
       "      <td>0.500145</td>\n",
       "      <td>1500</td>\n",
       "    </tr>\n",
       "    <tr>\n",
       "      <th>10CZK</th>\n",
       "      <td>0.495000</td>\n",
       "      <td>0.500225</td>\n",
       "      <td>1000</td>\n",
       "    </tr>\n",
       "    <tr>\n",
       "      <th>1CHF</th>\n",
       "      <td>0.488000</td>\n",
       "      <td>0.500023</td>\n",
       "      <td>1500</td>\n",
       "    </tr>\n",
       "    <tr>\n",
       "      <th>1CNY</th>\n",
       "      <td>0.498000</td>\n",
       "      <td>0.500163</td>\n",
       "      <td>1500</td>\n",
       "    </tr>\n",
       "    <tr>\n",
       "      <th>1CZK</th>\n",
       "      <td>0.510000</td>\n",
       "      <td>0.500150</td>\n",
       "      <td>1000</td>\n",
       "    </tr>\n",
       "    <tr>\n",
       "      <th>1EUR</th>\n",
       "      <td>0.498039</td>\n",
       "      <td>0.500017</td>\n",
       "      <td>11728</td>\n",
       "    </tr>\n",
       "    <tr>\n",
       "      <th>1HRK</th>\n",
       "      <td>0.504886</td>\n",
       "      <td>0.500005</td>\n",
       "      <td>8596</td>\n",
       "    </tr>\n",
       "    <tr>\n",
       "      <th>1MAD</th>\n",
       "      <td>0.490500</td>\n",
       "      <td>0.500035</td>\n",
       "      <td>2000</td>\n",
       "    </tr>\n",
       "    <tr>\n",
       "      <th>1MXN</th>\n",
       "      <td>0.534385</td>\n",
       "      <td>0.498846</td>\n",
       "      <td>8434</td>\n",
       "    </tr>\n",
       "    <tr>\n",
       "      <th>1SGD</th>\n",
       "      <td>0.526333</td>\n",
       "      <td>0.499323</td>\n",
       "      <td>15000</td>\n",
       "    </tr>\n",
       "    <tr>\n",
       "      <th>20DEM-silver</th>\n",
       "      <td>0.519000</td>\n",
       "      <td>0.499889</td>\n",
       "      <td>1000</td>\n",
       "    </tr>\n",
       "    <tr>\n",
       "      <th>2CHF</th>\n",
       "      <td>0.497002</td>\n",
       "      <td>0.500047</td>\n",
       "      <td>4503</td>\n",
       "    </tr>\n",
       "    <tr>\n",
       "      <th>2EUR</th>\n",
       "      <td>0.508378</td>\n",
       "      <td>0.499954</td>\n",
       "      <td>10384</td>\n",
       "    </tr>\n",
       "    <tr>\n",
       "      <th>2MAD</th>\n",
       "      <td>0.506000</td>\n",
       "      <td>0.500047</td>\n",
       "      <td>3000</td>\n",
       "    </tr>\n",
       "    <tr>\n",
       "      <th>5CZK</th>\n",
       "      <td>0.495600</td>\n",
       "      <td>0.500081</td>\n",
       "      <td>2500</td>\n",
       "    </tr>\n",
       "    <tr>\n",
       "      <th>5JPY</th>\n",
       "      <td>0.506000</td>\n",
       "      <td>0.500131</td>\n",
       "      <td>1500</td>\n",
       "    </tr>\n",
       "    <tr>\n",
       "      <th>5MAD</th>\n",
       "      <td>0.507746</td>\n",
       "      <td>0.500065</td>\n",
       "      <td>2001</td>\n",
       "    </tr>\n",
       "    <tr>\n",
       "      <th>5ZAR</th>\n",
       "      <td>0.516653</td>\n",
       "      <td>0.499757</td>\n",
       "      <td>7326</td>\n",
       "    </tr>\n",
       "  </tbody>\n",
       "</table>\n",
       "</div>"
      ],
      "text/plain": [
       "                  mean       std    len\n",
       "coin                                   \n",
       "0.05EUR       0.514123  0.499860   4213\n",
       "0.05NZD       0.513675  0.499937   2011\n",
       "0.10EUR       0.509584  0.499957   5165\n",
       "0.20EUR       0.500334  0.500021  11968\n",
       "0.20GBP       0.478803  0.499675   2005\n",
       "0.20GEL       0.510182  0.499941   5598\n",
       "0.25USD       0.491000  0.500169   1000\n",
       "0.50GBP       0.490691  0.500080   1504\n",
       "0.5EUR        0.505829  0.499981  16298\n",
       "100JPY        0.504667  0.500145   1500\n",
       "10CZK         0.495000  0.500225   1000\n",
       "1CHF          0.488000  0.500023   1500\n",
       "1CNY          0.498000  0.500163   1500\n",
       "1CZK          0.510000  0.500150   1000\n",
       "1EUR          0.498039  0.500017  11728\n",
       "1HRK          0.504886  0.500005   8596\n",
       "1MAD          0.490500  0.500035   2000\n",
       "1MXN          0.534385  0.498846   8434\n",
       "1SGD          0.526333  0.499323  15000\n",
       "20DEM-silver  0.519000  0.499889   1000\n",
       "2CHF          0.497002  0.500047   4503\n",
       "2EUR          0.508378  0.499954  10384\n",
       "2MAD          0.506000  0.500047   3000\n",
       "5CZK          0.495600  0.500081   2500\n",
       "5JPY          0.506000  0.500131   1500\n",
       "5MAD          0.507746  0.500065   2001\n",
       "5ZAR          0.516653  0.499757   7326"
      ]
     },
     "execution_count": 62,
     "metadata": {},
     "output_type": "execute_result"
    }
   ],
   "source": [
    "f = pd.read_csv('merged.csv')\n",
    "df = pd.DataFrame(f)\n",
    "# print(df.groupby(\"factor_coin\").mean()['succes'])\n",
    "# print(df.groupby(\"factor_person\").mean()['succes'])\n",
    "df.groupby('coin')[\"succes\"].agg([np.mean,np.std, len]).sort_index()"
   ]
  },
  {
   "cell_type": "code",
   "execution_count": 104,
   "metadata": {},
   "outputs": [
    {
     "data": {
      "text/plain": [
       "[2.410407066388499e-38,\n",
       " 3.61561059958273e-36,\n",
       " 2.6845908701901867e-34,\n",
       " 1.3154495263931958e-32,\n",
       " 4.784947652255239e-31,\n",
       " 1.3780649238495104e-29,\n",
       " 3.272904194142592e-28,\n",
       " 6.592564162487176e-27,\n",
       " 1.1495783758337124e-25,\n",
       " 1.7626868429450217e-24,\n",
       " 2.4060675406199534e-23,\n",
       " 2.952901072579041e-22,\n",
       " 3.2851024432441527e-21,\n",
       " 3.33564248083253e-20,\n",
       " 3.109295312490343e-19,\n",
       " 2.6739939687416906e-18,\n",
       " 2.130838943841036e-17,\n",
       " 1.5793276877880533e-16,\n",
       " 1.0923683173867408e-15,\n",
       " 7.071647528345755e-15,\n",
       " 4.2960258734700383e-14,\n",
       " 2.454871927697148e-13,\n",
       " 1.3222832883277767e-12,\n",
       " 6.726397597145703e-12,\n",
       " 3.2370788436263666e-11,\n",
       " 1.476107952693629e-10,\n",
       " 6.387005564539708e-10,\n",
       " 2.6257689543107635e-09,\n",
       " 1.0268632160608246e-08,\n",
       " 3.824180252916165e-08,\n",
       " 1.3575839897852447e-07,\n",
       " 4.5982683524983614e-07,\n",
       " 1.4872524202611995e-06,\n",
       " 4.59696202626186e-06,\n",
       " 1.3588078930568144e-05,\n",
       " 3.843485183217871e-05,\n",
       " 0.00010409439037881725,\n",
       " 0.0002700827426044992,\n",
       " 0.0006716531362138192,\n",
       " 0.0016016344017406473,\n",
       " 0.0036637386939817234,\n",
       " 0.008042353230691544,\n",
       " 0.016946387164671572,\n",
       " 0.034286876356428235,\n",
       " 0.06662563473806009,\n",
       " 0.12436785151104471,\n",
       " 0.22305103803611417,\n",
       " 0.3844071081047923,\n",
       " 0.6366742727985591,\n",
       " 1.0134814954752605,\n",
       " 1.5506266880771464,\n",
       " 2.280333364819309,\n",
       " 3.223163506042705,\n",
       " 4.378637215756135,\n",
       " 5.716554142792718,\n",
       " 7.171677015503591,\n",
       " 8.644432116901655,\n",
       " 10.009342451149287,\n",
       " 11.131079105157406,\n",
       " 11.885728536015487,\n",
       " 12.182871749415911,\n",
       " 11.983152540409085,\n",
       " 11.3066842518376,\n",
       " 10.229857180234054,\n",
       " 8.871204273484166,\n",
       " 7.369923550279171,\n",
       " 5.8624391877220665,\n",
       " 4.462453710057094,\n",
       " 3.248403803644524,\n",
       " 2.259759167752691,\n",
       " 1.5011257328642917,\n",
       " 0.951417718012581,\n",
       " 0.5748148712992659,\n",
       " 0.3307154054050597,\n",
       " 0.18099964755276865,\n",
       " 0.09411981672743913,\n",
       " 0.046440699043144094,\n",
       " 0.021712534617573956,\n",
       " 0.00960362108084998,\n",
       " 0.004011639185671543,\n",
       " 0.0015795829293581607,\n",
       " 0.0005850307145770977,\n",
       " 0.00020333384592008969,\n",
       " 6.61447450583419e-05,\n",
       " 2.007965474985395e-05,\n",
       " 5.669549576429368e-06,\n",
       " 1.4833123891820964e-06,\n",
       " 3.5804092152671383e-07,\n",
       " 7.933861329285139e-08,\n",
       " 1.6046011677205856e-08,\n",
       " 2.941768807487736e-09,\n",
       " 4.849069462891873e-10,\n",
       " 7.115482364026094e-11,\n",
       " 9.181267566485276e-12,\n",
       " 1.0255671217882542e-12,\n",
       " 9.715899048520338e-14,\n",
       " 7.590546131656504e-15,\n",
       " 4.695183174220505e-16,\n",
       " 2.1559514575502253e-17,\n",
       " 6.533186235000712e-19]"
      ]
     },
     "execution_count": 104,
     "metadata": {},
     "output_type": "execute_result"
    }
   ],
   "source": [
    "n = 100\n",
    "p = 0.6\n",
    "# defining list of r values\n",
    "[stats.binom.pmf(r, n, p)*150 for r in range(0,100)]"
   ]
  },
  {
   "cell_type": "code",
   "execution_count": null,
   "metadata": {},
   "outputs": [],
   "source": []
  }
 ],
 "metadata": {
  "kernelspec": {
   "display_name": "Python 3",
   "language": "python",
   "name": "python3"
  },
  "language_info": {
   "codemirror_mode": {
    "name": "ipython",
    "version": 3
   },
   "file_extension": ".py",
   "mimetype": "text/x-python",
   "name": "python",
   "nbconvert_exporter": "python",
   "pygments_lexer": "ipython3",
   "version": "3.10.9"
  },
  "orig_nbformat": 4,
  "vscode": {
   "interpreter": {
    "hash": "3d6c2a5ed63a7b8262a585c7d8a51c2575e7dc606b01ded3ffcdd65d619f40ed"
   }
  }
 },
 "nbformat": 4,
 "nbformat_minor": 2
}
